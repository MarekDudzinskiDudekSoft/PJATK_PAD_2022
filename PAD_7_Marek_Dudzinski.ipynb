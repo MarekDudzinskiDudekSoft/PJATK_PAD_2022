{
  "nbformat": 4,
  "nbformat_minor": 0,
  "metadata": {
    "colab": {
      "provenance": [],
      "include_colab_link": true
    },
    "kernelspec": {
      "name": "python3",
      "display_name": "Python 3"
    },
    "language_info": {
      "name": "python"
    }
  },
  "cells": [
    {
      "cell_type": "markdown",
      "metadata": {
        "id": "view-in-github",
        "colab_type": "text"
      },
      "source": [
        "<a href=\"https://colab.research.google.com/github/Dudek-exe/PJATK_PAD_2022/blob/main/PAD_7_Marek_Dudzinski.ipynb\" target=\"_parent\"><img src=\"https://colab.research.google.com/assets/colab-badge.svg\" alt=\"Open In Colab\"/></a>"
      ]
    },
    {
      "cell_type": "markdown",
      "source": [
        "#Zadanie 1 (4 pkt) \n",
        "\n",
        "Przeprowadź test T studenta na danych w pliku wyniki.csv\n",
        "\n",
        "Hipoteza zerowa brzmi: nie ma istotnej różnicy w Ocenie końcowej pomiędzy uczniami i uczennicami.\n",
        "\n",
        "Hipoteza alternatywna brzmi: istnieje istotna różnica (bez wskazania kierunku) w Ocenie końcowej pomiędzy uczniami i uczennicami.\n",
        "\n",
        "Przyjmij significance level (alpha) na poziomie 0.05. Czy uda się odrzucić hipotezę zerową?\n",
        "\n",
        "Pomocne wideo: https://www.khanacademy.org/math/ap-statistics/xfb5d8e68:inference-quantitative-means/two-sample-t-test-means/v/two-sample-t-test-for-difference-of-means - przeprowadzanie testu dla dwóch zmiennych."
      ],
      "metadata": {
        "id": "0Pje7pjcPePi"
      }
    },
    {
      "cell_type": "code",
      "source": [
        "import pandas as pd\n",
        "from scipy import stats"
      ],
      "metadata": {
        "id": "w4sQVOvTOPG9"
      },
      "execution_count": null,
      "outputs": []
    },
    {
      "cell_type": "code",
      "source": [
        "df = pd.read_csv('wyniki.csv')\n",
        "\n",
        "df_f = df[df['plec']=='F'].reset_index()\n",
        "df_m = df[df['plec']=='M'].reset_index()\n",
        "\n",
        "dane = pd.DataFrame(data={'sex': ['M', 'F'], \n",
        "                                'mean': [df_m['ocena_koncowa'].mean(), df_f['ocena_koncowa'].mean()],\n",
        "                                'std': [df_m['ocena_koncowa'].std(), df_f['ocena_koncowa'].std()],\n",
        "                                'nobs': [df_m['ocena_koncowa'].count(), df_f['ocena_koncowa'].count()] })\n",
        "alpha = 0.05\n",
        "\n",
        "test_t = stats.ttest_ind_from_stats(dane.iloc[0][1], dane.iloc[0][2], dane.iloc[0][3], dane.iloc[1][1], dane.iloc[1][2], dane.iloc[1][3])\n",
        "\n",
        "\n",
        "print('Hipoteza 0: brak roznic w ocenach kobiet i mezczyzn')\n",
        "print('Hipoteza 1: sa istotne roznice w ocenach kobiet i mezczyzn')\n",
        "print()\n",
        "print(dane)\n",
        "\n",
        "print(f'statystyka: {test_t[0]}, p-value = {test_t[1]}')\n",
        "\n",
        "if alpha > test_t[1]:\n",
        "  print(f'(Odrzucono Hipotezę 0. Sa istotne roznice w ocenach kobiet i mezczyzn')\n",
        "else:\n",
        "  print(f'(Brak podstaw do odrzucenia Hipotezy 0')\n"
      ],
      "metadata": {
        "id": "tWxbb8SDZZIz"
      },
      "execution_count": null,
      "outputs": []
    },
    {
      "cell_type": "markdown",
      "source": [
        "#Zadanie 2 (2 pkt)\n",
        "Korzystając z danych w pliku ZyskiFirmyX.csv stwórz model regresji liniowej i biblioteki statmodels:\n",
        "\n",
        "Wyświetl wykres pokazujący zyski w czasie. \n",
        "\n",
        "Czy da się zaobserwować trend? Jaki?\n",
        "\n",
        "Wyświetl podsumowanie modelu.\n"
      ],
      "metadata": {
        "id": "82aGE1QRcZlA"
      }
    },
    {
      "cell_type": "code",
      "source": [
        "df = pd.read_csv('ZyskiFirmyX.csv')"
      ],
      "metadata": {
        "id": "yuteujW7RVGm"
      },
      "execution_count": null,
      "outputs": []
    },
    {
      "cell_type": "code",
      "source": [
        "import plotly.express as px\n",
        "px.scatter(df, \"Rok\", \"Zysk\", title=\"Zyski firmy X\")"
      ],
      "metadata": {
        "id": "2_gpi6rtRVRj"
      },
      "execution_count": null,
      "outputs": []
    },
    {
      "cell_type": "code",
      "source": [
        "print(\"Nie stwierdzono jednoznacznego trendu liniowego\")"
      ],
      "metadata": {
        "colab": {
          "base_uri": "https://localhost:8080/"
        },
        "id": "BCkahwvpdk0o",
        "outputId": "e7009710-51bd-4931-9b58-b36dfecf8dbe"
      },
      "execution_count": 1,
      "outputs": [
        {
          "output_type": "stream",
          "name": "stdout",
          "text": [
            "Nie stwierdzono jednoznacznego trendu liniowego\n"
          ]
        }
      ]
    },
    {
      "cell_type": "code",
      "source": [
        "import statsmodels.formula.api as smf\n",
        "\n",
        "model = smf.ols(formula=\"Zysk ~ Rok\", data=df).fit()\n",
        "print(model.summary())"
      ],
      "metadata": {
        "id": "CMDAwrs0eBFY"
      },
      "execution_count": null,
      "outputs": []
    },
    {
      "cell_type": "code",
      "source": [
        "print(\"P Values:\", model.pvalues.values)\n",
        "print(\"Coef:\", model.params.values)\n",
        "print(\"Std Errors:\", model.bse.values)"
      ],
      "metadata": {
        "id": "w8daMspc6uSt"
      },
      "execution_count": null,
      "outputs": []
    },
    {
      "cell_type": "markdown",
      "source": [
        "# Zadanie 3 (6 pkt) \n",
        "Korzystając z danych w pliku spendingscores.csv i biblioteki statmodels:\n",
        "stwórz model regresji liniowej, gdzie zmienną zależną jest Spending score, a zmiennymi niezależnymi pozostałe zmienne.\n",
        "\n",
        "Z modelu wyświetl:\n",
        "*  p values\n",
        "*  standard dev\n",
        "*  coefficients\n",
        "\n",
        "Sprawdź czy istnieje korelacja pomiędzy zmiennymi.\n",
        "\n",
        "Pokaż to na wykresie, np. z biblioteki plotly express.\n",
        "\n",
        "Korzystając z eliminacji wstecznej usuń najmniej istotną zmienną i jeszcze raz wyświetl model.\n",
        "\n",
        "UWAGA: zwróć uwagę na zmienne będące kategoriami!"
      ],
      "metadata": {
        "id": "ZH5zh2tr24b7"
      }
    },
    {
      "cell_type": "code",
      "source": [
        "df = pd.read_csv('spendingscores.csv')"
      ],
      "metadata": {
        "id": "SUbiwO0W23Bp"
      },
      "execution_count": null,
      "outputs": []
    },
    {
      "cell_type": "code",
      "source": [
        "df['Gender'] =  df.apply(lambda x: 1 \n",
        "                         if x['Gender'] == 'Male' else 0 \n",
        "                         if x['Gender'] == 'Female' else None, axis = 1)"
      ],
      "metadata": {
        "id": "54_RITfM3nYI"
      },
      "execution_count": null,
      "outputs": []
    },
    {
      "cell_type": "code",
      "source": [
        "set(df['Gender'])"
      ],
      "metadata": {
        "id": "z79jpuZC4OIu"
      },
      "execution_count": null,
      "outputs": []
    },
    {
      "cell_type": "code",
      "source": [
        "import statsmodels.formula.api as smf\n",
        "\n",
        "model = smf.ols(formula=\"SpendingScore ~ Gender + Age + AnnualIncome\", data=df).fit()\n",
        "print(model.summary())"
      ],
      "metadata": {
        "id": "7tIimzFf5HQ1"
      },
      "execution_count": null,
      "outputs": []
    },
    {
      "cell_type": "code",
      "source": [
        "print(\"P Values:\", model.pvalues.values)\n",
        "print(\"Std Errors:\", model.bse.values)\n",
        "print(\"Coef:\", model.params.values)\n",
        "df.corr()"
      ],
      "metadata": {
        "id": "OEgl7i755ZdD"
      },
      "execution_count": null,
      "outputs": []
    }
  ]
}